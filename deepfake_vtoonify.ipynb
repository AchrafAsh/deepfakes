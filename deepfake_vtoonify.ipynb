{
  "nbformat": 4,
  "nbformat_minor": 0,
  "metadata": {
    "colab": {
      "provenance": [],
      "authorship_tag": "ABX9TyOIrvYP0d0g7AX3eG0zy+A4",
      "include_colab_link": true
    },
    "kernelspec": {
      "name": "python3",
      "display_name": "Python 3"
    },
    "language_info": {
      "name": "python"
    },
    "accelerator": "GPU",
    "gpuClass": "standard"
  },
  "cells": [
    {
      "cell_type": "markdown",
      "metadata": {
        "id": "view-in-github",
        "colab_type": "text"
      },
      "source": [
        "<a href=\"https://colab.research.google.com/github/AchrafAsh/deepfakes/blob/main/deepfake_vtoonify.ipynb\" target=\"_parent\"><img src=\"https://colab.research.google.com/assets/colab-badge.svg\" alt=\"Open In Colab\"/></a>"
      ]
    },
    {
      "cell_type": "markdown",
      "source": [
        "## Training VToonify"
      ],
      "metadata": {
        "id": "QvEviOF-nmHW"
      }
    },
    {
      "cell_type": "markdown",
      "source": [
        "### 1. Train DualStyleGAN"
      ],
      "metadata": {
        "id": "Ngxdo_lltL5B"
      }
    },
    {
      "cell_type": "code",
      "execution_count": null,
      "metadata": {
        "colab": {
          "base_uri": "https://localhost:8080/"
        },
        "id": "hm3Rsg1Gm8aJ",
        "outputId": "e53d2c30-633f-4ae8-9e35-8bfed5b9d171"
      },
      "outputs": [
        {
          "output_type": "stream",
          "name": "stdout",
          "text": [
            "Cloning into 'DualStyleGAN'...\n",
            "remote: Enumerating objects: 767, done.\u001b[K\n",
            "remote: Counting objects: 100% (260/260), done.\u001b[K\n",
            "remote: Compressing objects: 100% (72/72), done.\u001b[K\n",
            "remote: Total 767 (delta 214), reused 193 (delta 188), pack-reused 507\u001b[K\n",
            "Receiving objects: 100% (767/767), 26.24 MiB | 18.66 MiB/s, done.\n",
            "Resolving deltas: 100% (382/382), done.\n"
          ]
        }
      ],
      "source": [
        "!git clone https://github.com/AchrafAsh/DualStyleGAN"
      ]
    },
    {
      "cell_type": "code",
      "source": [
        "import os\n",
        "os.chdir(\"DualStyleGAN\")"
      ],
      "metadata": {
        "id": "JsoA_sPD5eB-"
      },
      "execution_count": null,
      "outputs": []
    },
    {
      "cell_type": "markdown",
      "source": [
        "Download the models to `./checkpoint/`\n",
        "\n",
        "- `stylegan2-ffhq-config-f.pt`: StyleGAN model trained on FFHQ taken from rosinality\n",
        "- `model_ir_se50.pth`: Pretrained IR-SE50 model taken from TreB1eN for ID loss"
      ],
      "metadata": {
        "id": "TgTh8mLxtSZU"
      }
    },
    {
      "cell_type": "markdown",
      "source": [
        "Prepare a dataset of the style to learn (300 images of Tom Cruise) in ./data/cruise/images/train"
      ],
      "metadata": {
        "id": "W1pS_cv9tT0W"
      }
    },
    {
      "cell_type": "code",
      "source": [
        "!unzip ./data/cruise.zip -d ./data/\n",
        "!rm -r ./data/__MACOSX"
      ],
      "metadata": {
        "id": "_dWo8pwl9vQ1"
      },
      "execution_count": null,
      "outputs": []
    },
    {
      "cell_type": "code",
      "source": [
        "!mkdir ./data/cruise/images/train\n",
        "!mv ./data/cruise/images/*.png ./data/cruise/images/train"
      ],
      "metadata": {
        "id": "ySlyZnK2yy1a"
      },
      "execution_count": null,
      "outputs": []
    },
    {
      "cell_type": "code",
      "source": [
        "!pip install lmdb"
      ],
      "metadata": {
        "id": "Cr1_99_mzS5G"
      },
      "execution_count": null,
      "outputs": []
    },
    {
      "cell_type": "code",
      "source": [
        "!python ./model/stylegan/prepare_data.py --out ./data/cruise/lmdb \\\n",
        "    --n_worker 4 --size 1024 ./data/cruise/images"
      ],
      "metadata": {
        "id": "w78HThQ5tWfn",
        "outputId": "408925e5-5ad5-4279-9409-11efda1e1deb",
        "colab": {
          "base_uri": "https://localhost:8080/"
        }
      },
      "execution_count": null,
      "outputs": [
        {
          "output_type": "stream",
          "name": "stdout",
          "text": [
            "Make dataset of image sizes: 1024\n",
            "\r0it [00:00, ?it/s]/usr/local/lib/python3.9/dist-packages/torchvision/transforms/functional.py:442: UserWarning: Argument 'interpolation' of type int is deprecated since 0.13 and will be removed in 0.15. Please use InterpolationMode enum.\n",
            "  warnings.warn(\n",
            "/usr/local/lib/python3.9/dist-packages/torchvision/transforms/functional.py:442: UserWarning: Argument 'interpolation' of type int is deprecated since 0.13 and will be removed in 0.15. Please use InterpolationMode enum.\n",
            "  warnings.warn(\n",
            "/usr/local/lib/python3.9/dist-packages/torchvision/transforms/functional.py:442: UserWarning: Argument 'interpolation' of type int is deprecated since 0.13 and will be removed in 0.15. Please use InterpolationMode enum.\n",
            "  warnings.warn(\n",
            "/usr/local/lib/python3.9/dist-packages/torchvision/transforms/functional.py:442: UserWarning: Argument 'interpolation' of type int is deprecated since 0.13 and will be removed in 0.15. Please use InterpolationMode enum.\n",
            "  warnings.warn(\n",
            "232it [00:14, 15.74it/s]\n"
          ]
        }
      ]
    },
    {
      "cell_type": "code",
      "source": [
        "!pip install ninja"
      ],
      "metadata": {
        "id": "SZs_PrPT24rs"
      },
      "execution_count": null,
      "outputs": []
    },
    {
      "cell_type": "markdown",
      "source": [
        "Fine tune StyleGAN:\n",
        "\n",
        "*The fine-tuned model can be found in* ./checkpoint/cartoon/finetune-000600.pt. *Intermediate results are saved in* ./log/cartoon/"
      ],
      "metadata": {
        "id": "qls0ZI2ptxdi"
      }
    },
    {
      "cell_type": "code",
      "source": [
        "!python -m torch.distributed.launch --nproc_per_node=8 \\\n",
        "    finetune_stylegan.py --iter 600 --batch 4 --local_rank 0\\\n",
        "    --ckpt ./checkpoint/stylegan2-ffhq-config-f.pt --style cruise \\\n",
        "    --augment ./data/cruise/lmdb/"
      ],
      "metadata": {
        "id": "nxergSlHtwrH",
        "outputId": "e2273f28-bcf4-4414-aed8-f07b18eca926",
        "colab": {
          "base_uri": "https://localhost:8080/"
        }
      },
      "execution_count": null,
      "outputs": [
        {
          "output_type": "stream",
          "name": "stdout",
          "text": [
            "/usr/local/lib/python3.9/dist-packages/torch/distributed/launch.py:180: FutureWarning: The module torch.distributed.launch is deprecated\n",
            "and will be removed in future. Use torchrun.\n",
            "Note that --use_env is set by default in torchrun.\n",
            "If your script expects `--local_rank` argument to be set, please\n",
            "change it to read from `os.environ['LOCAL_RANK']` instead. See \n",
            "https://pytorch.org/docs/stable/distributed.html#launch-utility for \n",
            "further instructions\n",
            "\n",
            "  warnings.warn(\n",
            "WARNING:torch.distributed.run:\n",
            "*****************************************\n",
            "Setting OMP_NUM_THREADS environment variable for each process to be 1 in default, to avoid your system being overloaded, please further tune the variable for optimal performance in your application as needed. \n",
            "*****************************************\n",
            "Load options\n",
            "ada_every: 256\n",
            "ada_length: 500000\n",
            "ada_target: 0.6\n",
            "augment: True\n",
            "augment_p: 0\n",
            "batch: 4\n",
            "channel_multiplier: 2\n",
            "ckpt: ./checkpoint/stylegan2-ffhq-config-f.pt\n",
            "d_reg_every: 16\n",
            "g_reg_every: 4\n",
            "iter: 600\n",
            "local_rank: 0\n",
            "lr: 0.002\n",
            "mixing: 0.9\n",
            "model_path: ./checkpoint/\n",
            "n_sample: 9\n",
            "path: ./data/cruise/lmdb/\n",
            "path_batch_shrink: 2\n",
            "path_regularize: 2\n",
            "r1: 10\n",
            "save_every: 10000\n",
            "size: 1024\n",
            "style: cruise\n",
            "wandb: False\n",
            "**************************************************************************************************\n",
            "Load options\n",
            "ada_every: 256\n",
            "ada_length: 500000\n",
            "ada_target: 0.6\n",
            "augment: True\n",
            "augment_p: 0\n",
            "batch: 4\n",
            "channel_multiplier: 2\n",
            "ckpt: ./checkpoint/stylegan2-ffhq-config-f.pt\n",
            "d_reg_every: 16\n",
            "g_reg_every: 4\n",
            "iter: 600\n",
            "local_rank: 0\n",
            "lr: 0.002\n",
            "mixing: 0.9\n",
            "model_path: ./checkpoint/\n",
            "n_sample: 9\n",
            "path: ./data/cruise/lmdb/\n",
            "path_batch_shrink: 2\n",
            "path_regularize: 2\n",
            "r1: 10\n",
            "save_every: 10000\n",
            "size: 1024\n",
            "style: cruise\n",
            "wandb: False\n",
            "**************************************************************************************************\n",
            "Load optionsLoad optionsLoad options\n",
            "ada_every: 256\n",
            "ada_length: 500000\n",
            "ada_target: 0.6\n",
            "augment: True\n",
            "augment_p: 0\n",
            "batch: 4\n",
            "channel_multiplier: 2\n",
            "ckpt: ./checkpoint/stylegan2-ffhq-config-f.pt\n",
            "d_reg_every: 16\n",
            "g_reg_every: 4\n",
            "iter: 600\n",
            "local_rank: 0\n",
            "lr: 0.002\n",
            "mixing: 0.9\n",
            "model_path: ./checkpoint/\n",
            "n_sample: 9\n",
            "path: ./data/cruise/lmdb/\n",
            "path_batch_shrink: 2\n",
            "path_regularize: 2\n",
            "r1: 10\n",
            "save_every: 10000\n",
            "size: 1024\n",
            "style: cruise\n",
            "wandb: False\n",
            "**************************************************************************************************\n",
            "\n",
            "ada_every: 256\n",
            "ada_every: 256\n",
            "ada_length: 500000\n",
            "ada_target: 0.6\n",
            "\n",
            "ada_length: 500000augment: True\n",
            "\n",
            "ada_target: 0.6augment_p: 0\n",
            "\n",
            "batch: 4augment: True\n",
            "channel_multiplier: 2\n",
            "augment_p: 0\n",
            "ckpt: ./checkpoint/stylegan2-ffhq-config-f.pt\n",
            "batch: 4\n",
            "\n",
            "d_reg_every: 16channel_multiplier: 2\n",
            "g_reg_every: 4\n",
            "ckpt: ./checkpoint/stylegan2-ffhq-config-f.pt\n",
            "iter: 600\n",
            "d_reg_every: 16\n",
            "local_rank: 0\n",
            "g_reg_every: 4\n",
            "lr: 0.002\n",
            "iter: 600\n",
            "\n",
            "mixing: 0.9local_rank: 0\n",
            "\n",
            "lr: 0.002model_path: ./checkpoint/\n",
            "\n",
            "mixing: 0.9n_sample: 9\n",
            "\n",
            "model_path: ./checkpoint/path: ./data/cruise/lmdb/\n",
            "\n",
            "n_sample: 9path_batch_shrink: 2\n",
            "\n",
            "path: ./data/cruise/lmdb/path_regularize: 2\n",
            "\n",
            "path_batch_shrink: 2\n",
            "r1: 10path_regularize: 2\n",
            "\n",
            "save_every: 10000r1: 10\n",
            "size: 1024\n",
            "save_every: 10000\n",
            "style: cruise\n",
            "size: 1024\n",
            "\n",
            "wandb: Falsestyle: cruise\n",
            "**************************************************************************************************\n",
            "wandb: False\n",
            "\n",
            "**************************************************************************************************\n",
            "Load optionsLoad optionsLoad options\n",
            "ada_every: 256\n",
            "ada_length: 500000\n",
            "ada_target: 0.6\n",
            "augment: True\n",
            "\n",
            "augment_p: 0\n",
            "ada_every: 256batch: 4\n",
            "channel_multiplier: 2\n",
            "\n",
            "ckpt: ./checkpoint/stylegan2-ffhq-config-f.ptada_length: 500000\n",
            "d_reg_every: 16\n",
            "ada_target: 0.6\n",
            "g_reg_every: 4\n",
            "\n",
            "iter: 600augment: True\n",
            "\n",
            "local_rank: 0augment_p: 0\n",
            "\n",
            "lr: 0.002batch: 4\n",
            "\n",
            "mixing: 0.9channel_multiplier: 2\n",
            "\n",
            "\n",
            "model_path: ./checkpoint/ckpt: ./checkpoint/stylegan2-ffhq-config-f.ptada_every: 256\n",
            "\n",
            "n_sample: 9d_reg_every: 16\n",
            "\n",
            "path: ./data/cruise/lmdb/g_reg_every: 4\n",
            "\n",
            "path_batch_shrink: 2iter: 600\n",
            "\n",
            "\n",
            "path_regularize: 2ada_length: 500000\n",
            "r1: 10\n",
            "ada_target: 0.6\n",
            "save_every: 10000local_rank: 0\n",
            "\n",
            "\n",
            "augment: Truesize: 1024lr: 0.002\n",
            "\n",
            "style: cruiseaugment_p: 0\n",
            "mixing: 0.9\n",
            "\n",
            "batch: 4\n",
            "model_path: ./checkpoint/wandb: False\n",
            "channel_multiplier: 2\n",
            "\n",
            "n_sample: 9\n",
            "**************************************************************************************************ckpt: ./checkpoint/stylegan2-ffhq-config-f.pt\n",
            "path: ./data/cruise/lmdb/\n",
            "\n",
            "\n",
            "d_reg_every: 16path_batch_shrink: 2\n",
            "g_reg_every: 4\n",
            "iter: 600\n",
            "\n",
            "local_rank: 0path_regularize: 2\n",
            "\n",
            "lr: 0.002r1: 10\n",
            "\n",
            "mixing: 0.9save_every: 10000\n",
            "\n",
            "size: 1024model_path: ./checkpoint/\n",
            "\n",
            "style: cruisen_sample: 9\n",
            "\n",
            "wandb: Falsepath: ./data/cruise/lmdb/\n",
            "\n",
            "**************************************************************************************************path_batch_shrink: 2\n",
            "path_regularize: 2\n",
            "\n",
            "r1: 10\n",
            "save_every: 10000\n",
            "size: 1024\n",
            "style: cruise\n",
            "wandb: False\n",
            "**************************************************************************************************\n",
            "Traceback (most recent call last):\n",
            "Traceback (most recent call last):\n",
            "  File \"/content/DualStyleGAN/finetune_stylegan.py\", line 297, in <module>\n",
            "  File \"/content/DualStyleGAN/finetune_stylegan.py\", line 297, in <module>\n",
            "Traceback (most recent call last):\n",
            "Traceback (most recent call last):\n",
            "  File \"/content/DualStyleGAN/finetune_stylegan.py\", line 297, in <module>\n",
            "  File \"/content/DualStyleGAN/finetune_stylegan.py\", line 297, in <module>\n",
            "Traceback (most recent call last):\n",
            "  File \"/content/DualStyleGAN/finetune_stylegan.py\", line 297, in <module>\n",
            "Traceback (most recent call last):\n",
            "  File \"/content/DualStyleGAN/finetune_stylegan.py\", line 297, in <module>\n",
            "Traceback (most recent call last):\n",
            "  File \"/content/DualStyleGAN/finetune_stylegan.py\", line 297, in <module>\n",
            "Traceback (most recent call last):\n",
            "  File \"/content/DualStyleGAN/finetune_stylegan.py\", line 297, in <module>\n",
            "        synchronize()\n",
            "synchronize()  File \"/content/DualStyleGAN/model/stylegan/distributed.py\", line 31, in synchronize\n",
            "\n",
            "  File \"/content/DualStyleGAN/model/stylegan/distributed.py\", line 31, in synchronize\n",
            "    synchronize()\n",
            "  File \"/content/DualStyleGAN/model/stylegan/distributed.py\", line 31, in synchronize\n",
            "    synchronize()\n",
            "  File \"/content/DualStyleGAN/model/stylegan/distributed.py\", line 31, in synchronize\n",
            "    synchronize()\n",
            "  File \"/content/DualStyleGAN/model/stylegan/distributed.py\", line 31, in synchronize\n",
            "    synchronize()\n",
            "  File \"/content/DualStyleGAN/model/stylegan/distributed.py\", line 31, in synchronize\n",
            "    synchronize()\n",
            "  File \"/content/DualStyleGAN/model/stylegan/distributed.py\", line 31, in synchronize\n",
            "    dist.barrier()\n",
            "  File \"/usr/local/lib/python3.9/dist-packages/torch/distributed/distributed_c10d.py\", line 3145, in barrier\n",
            "    dist.barrier()\n",
            "  File \"/usr/local/lib/python3.9/dist-packages/torch/distributed/distributed_c10d.py\", line 3145, in barrier\n",
            "    dist.barrier()\n",
            "  File \"/usr/local/lib/python3.9/dist-packages/torch/distributed/distributed_c10d.py\", line 3145, in barrier\n",
            "    dist.barrier()\n",
            "  File \"/usr/local/lib/python3.9/dist-packages/torch/distributed/distributed_c10d.py\", line 3145, in barrier\n",
            "    dist.barrier()\n",
            "  File \"/usr/local/lib/python3.9/dist-packages/torch/distributed/distributed_c10d.py\", line 3145, in barrier\n",
            "    dist.barrier()\n",
            "  File \"/usr/local/lib/python3.9/dist-packages/torch/distributed/distributed_c10d.py\", line 3145, in barrier\n",
            "    dist.barrier()\n",
            "  File \"/usr/local/lib/python3.9/dist-packages/torch/distributed/distributed_c10d.py\", line 3145, in barrier\n",
            "    synchronize()\n",
            "  File \"/content/DualStyleGAN/model/stylegan/distributed.py\", line 31, in synchronize\n",
            "    dist.barrier()\n",
            "  File \"/usr/local/lib/python3.9/dist-packages/torch/distributed/distributed_c10d.py\", line 3145, in barrier\n",
            "    work = default_pg.barrier(opts=opts)\n",
            "RuntimeError: NCCL error in: ../torch/csrc/distributed/c10d/ProcessGroupNCCL.cpp:1269, internal error, NCCL version 2.14.3\n",
            "ncclInternalError: Internal check failed.\n",
            "Last error:\n",
            "Duplicate GPU detected : rank 6 and rank 0 both on CUDA device 40\n",
            "    work = default_pg.barrier(opts=opts)\n",
            "RuntimeError: NCCL error in: ../torch/csrc/distributed/c10d/ProcessGroupNCCL.cpp:1269, internal error, NCCL version 2.14.3\n",
            "ncclInternalError: Internal check failed.\n",
            "Last error:\n",
            "Duplicate GPU detected : rank 7 and rank 0 both on CUDA device 40\n",
            "    work = default_pg.barrier(opts=opts)\n",
            "RuntimeError: NCCL error in: ../torch/csrc/distributed/c10d/ProcessGroupNCCL.cpp:1269, internal error, NCCL version 2.14.3\n",
            "ncclInternalError: Internal check failed.\n",
            "Last error:\n",
            "Duplicate GPU detected : rank 5 and rank 0 both on CUDA device 40\n",
            "    work = default_pg.barrier(opts=opts)\n",
            "RuntimeError: NCCL error in: ../torch/csrc/distributed/c10d/ProcessGroupNCCL.cpp:1269, internal error, NCCL version 2.14.3\n",
            "ncclInternalError: Internal check failed.\n",
            "Last error:\n",
            "Duplicate GPU detected : rank 4 and rank 0 both on CUDA device 40\n",
            "    work = default_pg.barrier(opts=opts)\n",
            "RuntimeError: NCCL error in: ../torch/csrc/distributed/c10d/ProcessGroupNCCL.cpp:1269, internal error, NCCL version 2.14.3\n",
            "ncclInternalError: Internal check failed.\n",
            "Last error:\n",
            "Duplicate GPU detected : rank 1 and rank 0 both on CUDA device 40\n",
            "    work = default_pg.barrier(opts=opts)\n",
            "RuntimeError: NCCL error in: ../torch/csrc/distributed/c10d/ProcessGroupNCCL.cpp:1269, internal error, NCCL version 2.14.3\n",
            "ncclInternalError: Internal check failed.\n",
            "Last error:\n",
            "Duplicate GPU detected : rank 0 and rank 1 both on CUDA device 40\n",
            "    work = default_pg.barrier(opts=opts)\n",
            "RuntimeError: NCCL error in: ../torch/csrc/distributed/c10d/ProcessGroupNCCL.cpp:1269, internal error, NCCL version 2.14.3\n",
            "ncclInternalError: Internal check failed.\n",
            "Last error:\n",
            "Duplicate GPU detected : rank 2 and rank 0 both on CUDA device 40\n",
            "    work = default_pg.barrier(opts=opts)\n",
            "RuntimeError: NCCL error in: ../torch/csrc/distributed/c10d/ProcessGroupNCCL.cpp:1269, internal error, NCCL version 2.14.3\n",
            "ncclInternalError: Internal check failed.\n",
            "Last error:\n",
            "Duplicate GPU detected : rank 3 and rank 0 both on CUDA device 40\n",
            "ERROR:torch.distributed.elastic.multiprocessing.api:failed (exitcode: 1) local_rank: 0 (pid: 11923) of binary: /usr/bin/python3\n",
            "Traceback (most recent call last):\n",
            "  File \"/usr/lib/python3.9/runpy.py\", line 197, in _run_module_as_main\n",
            "    return _run_code(code, main_globals, None,\n",
            "  File \"/usr/lib/python3.9/runpy.py\", line 87, in _run_code\n",
            "    exec(code, run_globals)\n",
            "  File \"/usr/local/lib/python3.9/dist-packages/torch/distributed/launch.py\", line 195, in <module>\n",
            "    main()\n",
            "  File \"/usr/local/lib/python3.9/dist-packages/torch/distributed/launch.py\", line 191, in main\n",
            "    launch(args)\n",
            "  File \"/usr/local/lib/python3.9/dist-packages/torch/distributed/launch.py\", line 176, in launch\n",
            "    run(args)\n",
            "  File \"/usr/local/lib/python3.9/dist-packages/torch/distributed/run.py\", line 753, in run\n",
            "    elastic_launch(\n",
            "  File \"/usr/local/lib/python3.9/dist-packages/torch/distributed/launcher/api.py\", line 132, in __call__\n",
            "    return launch_agent(self._config, self._entrypoint, list(args))\n",
            "  File \"/usr/local/lib/python3.9/dist-packages/torch/distributed/launcher/api.py\", line 246, in launch_agent\n",
            "    raise ChildFailedError(\n",
            "torch.distributed.elastic.multiprocessing.errors.ChildFailedError: \n",
            "============================================================\n",
            "finetune_stylegan.py FAILED\n",
            "------------------------------------------------------------\n",
            "Failures:\n",
            "[1]:\n",
            "  time      : 2023-03-11_09:03:42\n",
            "  host      : 81a0b431339f\n",
            "  rank      : 1 (local_rank: 1)\n",
            "  exitcode  : 1 (pid: 11924)\n",
            "  error_file: <N/A>\n",
            "  traceback : To enable traceback see: https://pytorch.org/docs/stable/elastic/errors.html\n",
            "[2]:\n",
            "  time      : 2023-03-11_09:03:42\n",
            "  host      : 81a0b431339f\n",
            "  rank      : 2 (local_rank: 2)\n",
            "  exitcode  : 1 (pid: 11925)\n",
            "  error_file: <N/A>\n",
            "  traceback : To enable traceback see: https://pytorch.org/docs/stable/elastic/errors.html\n",
            "[3]:\n",
            "  time      : 2023-03-11_09:03:42\n",
            "  host      : 81a0b431339f\n",
            "  rank      : 3 (local_rank: 3)\n",
            "  exitcode  : 1 (pid: 11926)\n",
            "  error_file: <N/A>\n",
            "  traceback : To enable traceback see: https://pytorch.org/docs/stable/elastic/errors.html\n",
            "[4]:\n",
            "  time      : 2023-03-11_09:03:42\n",
            "  host      : 81a0b431339f\n",
            "  rank      : 4 (local_rank: 4)\n",
            "  exitcode  : 1 (pid: 11927)\n",
            "  error_file: <N/A>\n",
            "  traceback : To enable traceback see: https://pytorch.org/docs/stable/elastic/errors.html\n",
            "[5]:\n",
            "  time      : 2023-03-11_09:03:42\n",
            "  host      : 81a0b431339f\n",
            "  rank      : 5 (local_rank: 5)\n",
            "  exitcode  : 1 (pid: 11928)\n",
            "  error_file: <N/A>\n",
            "  traceback : To enable traceback see: https://pytorch.org/docs/stable/elastic/errors.html\n",
            "[6]:\n",
            "  time      : 2023-03-11_09:03:42\n",
            "  host      : 81a0b431339f\n",
            "  rank      : 6 (local_rank: 6)\n",
            "  exitcode  : 1 (pid: 11929)\n",
            "  error_file: <N/A>\n",
            "  traceback : To enable traceback see: https://pytorch.org/docs/stable/elastic/errors.html\n",
            "[7]:\n",
            "  time      : 2023-03-11_09:03:42\n",
            "  host      : 81a0b431339f\n",
            "  rank      : 7 (local_rank: 7)\n",
            "  exitcode  : 1 (pid: 11930)\n",
            "  error_file: <N/A>\n",
            "  traceback : To enable traceback see: https://pytorch.org/docs/stable/elastic/errors.html\n",
            "------------------------------------------------------------\n",
            "Root Cause (first observed failure):\n",
            "[0]:\n",
            "  time      : 2023-03-11_09:03:42\n",
            "  host      : 81a0b431339f\n",
            "  rank      : 0 (local_rank: 0)\n",
            "  exitcode  : 1 (pid: 11923)\n",
            "  error_file: <N/A>\n",
            "  traceback : To enable traceback see: https://pytorch.org/docs/stable/elastic/errors.html\n",
            "============================================================\n"
          ]
        }
      ]
    },
    {
      "cell_type": "code",
      "source": [
        "!python finetune_stylegan.py --iter 600 --batch 4\\\n",
        "    --ckpt ./checkpoint/stylegan2-ffhq-config-f.pt \\\n",
        "    --style cruise --augment ./data/cruise/lmdb/"
      ],
      "metadata": {
        "id": "lrYsMVjT6biA",
        "outputId": "f3cc1b6f-05a7-45cb-83e5-8cdb41d43b9f",
        "colab": {
          "base_uri": "https://localhost:8080/"
        }
      },
      "execution_count": null,
      "outputs": [
        {
          "output_type": "stream",
          "name": "stdout",
          "text": [
            "Load options\n",
            "ada_every: 256\n",
            "ada_length: 500000\n",
            "ada_target: 0.6\n",
            "augment: True\n",
            "augment_p: 0\n",
            "batch: 4\n",
            "channel_multiplier: 2\n",
            "ckpt: ./checkpoint/stylegan2-ffhq-config-f.pt\n",
            "d_reg_every: 16\n",
            "g_reg_every: 4\n",
            "iter: 600\n",
            "local_rank: 0\n",
            "lr: 0.002\n",
            "mixing: 0.9\n",
            "model_path: ./checkpoint/\n",
            "n_sample: 9\n",
            "path: ./data/cruise/lmdb/\n",
            "path_batch_shrink: 2\n",
            "path_regularize: 2\n",
            "r1: 10\n",
            "save_every: 10000\n",
            "size: 1024\n",
            "style: cruise\n",
            "wandb: False\n",
            "**************************************************************************************************\n",
            "load model: ./checkpoint/stylegan2-ffhq-config-f.pt\n",
            "  0%|                                                                                                               | 0/600 [00:00<?, ?it/s]/content/DualStyleGAN/model/stylegan/op/conv2d_gradfix.py:88: UserWarning: conv2d_gradfix not supported on PyTorch 1.13.1+cu116. Falling back to torch.nn.functional.conv2d().\n",
            "  warnings.warn(\n",
            "  0%|                                                                                                               | 0/600 [00:08<?, ?it/s]\n",
            "Traceback (most recent call last):\n",
            "  File \"/usr/lib/python3.9/runpy.py\", line 197, in _run_module_as_main\n",
            "    return _run_code(code, main_globals, None,\n",
            "  File \"/usr/lib/python3.9/runpy.py\", line 87, in _run_code\n",
            "    exec(code, run_globals)\n",
            "  File \"/content/DualStyleGAN/finetune_stylegan.py\", line 391, in <module>\n",
            "    train(args, loader, generator, discriminator, g_optim, d_optim, g_ema, device)\n",
            "  File \"/content/DualStyleGAN/finetune_stylegan.py\", line 159, in train\n",
            "    r1_loss = d_r1_loss(real_pred, real_img)\n",
            "  File \"/content/DualStyleGAN/util.py\", line 71, in d_r1_loss\n",
            "    grad_real, = autograd.grad(\n",
            "  File \"/usr/local/lib/python3.9/dist-packages/torch/autograd/__init__.py\", line 300, in grad\n",
            "    return Variable._execution_engine.run_backward(  # Calls into the C++ engine to run the backward pass\n",
            "  File \"/usr/local/lib/python3.9/dist-packages/torch/autograd/function.py\", line 267, in apply\n",
            "    return user_fn(self, *args)\n",
            "  File \"/content/DualStyleGAN/model/stylegan/non_leaking.py\", line 352, in backward\n",
            "    grad_input, grad_grid = GridSampleBackward.apply(grad_output, input, grid)\n",
            "  File \"/content/DualStyleGAN/model/stylegan/non_leaking.py\", line 361, in forward\n",
            "    grad_input, grad_grid = op(grad_output, input, grid, 0, 0, False)\n",
            "TypeError: 'tuple' object is not callable\n"
          ]
        }
      ]
    },
    {
      "cell_type": "markdown",
      "source": [
        "Destylize artistic portraits:"
      ],
      "metadata": {
        "id": "bzkryTd9uKB5"
      }
    },
    {
      "cell_type": "code",
      "source": [
        "!python destylize.py --model_name finetune-000600.pt --batch 1 --iter 300 cruise"
      ],
      "metadata": {
        "id": "jPO2knHZuUtS"
      },
      "execution_count": null,
      "outputs": []
    },
    {
      "cell_type": "markdown",
      "source": [
        "Progressive fine tuning:"
      ],
      "metadata": {
        "id": "g1XofKAquWQz"
      }
    },
    {
      "cell_type": "code",
      "source": [
        "!python -m torch.distributed.launch --nproc_per_node=1 \\\n",
        "    --master_port=8765 pretrain_dualstylegan.py --iter 3000 \\\n",
        "    --batch 4 ./data/ffhq/lmdb/"
      ],
      "metadata": {
        "id": "RmtI7o62uXxh"
      },
      "execution_count": null,
      "outputs": []
    },
    {
      "cell_type": "markdown",
      "source": [
        "Fine-tune on target domain"
      ],
      "metadata": {
        "id": "1he4s7bhueMS"
      }
    },
    {
      "cell_type": "code",
      "source": [
        "!python -m torch.distributed.launch --nproc_per_node=8 \\\n",
        "    --master_port=8765 finetune_dualstylegan.py --iter 1500 \\\n",
        "    --batch 4 --ckpt ./checkpoint/generator-pretrain.pt \\\n",
        "    --style_loss 0.25 --CX_loss 0.25 --perc_loss 1 --id_loss 1 \\\n",
        "    --L2_reg_loss 0.015 --augment cruise"
      ],
      "metadata": {
        "id": "AcaQK06_nwj_"
      },
      "execution_count": null,
      "outputs": []
    },
    {
      "cell_type": "markdown",
      "source": [
        "### 2. Training VToonify"
      ],
      "metadata": {
        "id": "4EVuQny6uvmh"
      }
    },
    {
      "cell_type": "markdown",
      "source": [
        "Download models checkpoints in `./checkpoint/`:\n",
        "- `StyleGAN` for improving image quality\n",
        "- `Pixel2style2pixel` encoder that embeds FFHQ images into StyleGAN2 Z+ latent code\n",
        "- `BiSeNet` for face parsing from face-parsing.PyTorch\n",
        "- Editing vectors taken from `LowRankGAN` for editing face attributes\n",
        "- Pre-trained stylegan-based toonification models from Part 1 above"
      ],
      "metadata": {
        "id": "vcxgqVT1uxb_"
      }
    },
    {
      "cell_type": "code",
      "source": [
        "# for pre-training the encoder\n",
        "!python -m torch.distributed.launch --nproc_per_node=N_GPU --master_port=PORT train_vtoonify_d.py \\\n",
        "       --iter ITERATIONS --stylegan_path DUALSTYLEGAN_PATH --exstyle_path EXSTYLE_CODE_PATH \\\n",
        "       --batch BATCH_SIZE --name SAVE_NAME --pretrain"
      ],
      "metadata": {
        "id": "0YTvgaSAv64e"
      },
      "execution_count": null,
      "outputs": []
    },
    {
      "cell_type": "code",
      "source": [
        "# for training VToonify-D given the pre-trained encoder\n",
        "!python -m torch.distributed.launch --nproc_per_node=N_GPU --master_port=PORT train_vtoonify_d.py \\\n",
        "       --iter ITERATIONS --stylegan_path DUALSTYLEGAN_PATH --exstyle_path EXSTYLE_CODE_PATH \\\n",
        "       --batch BATCH_SIZE --name SAVE_NAME                  # + ADDITIONAL STYLE CONTROL OPTIONS"
      ],
      "metadata": {
        "id": "abfjNVn1v2LL"
      },
      "execution_count": null,
      "outputs": []
    },
    {
      "cell_type": "markdown",
      "source": [
        "See example here:\n",
        "https://github.com/williamyang1991/VToonify#:~:text=Here%20is%20an%20example%20to%20reproduce%20the%20VToonify%2DDsd%20on%20Cartoon%20style%20and%20the%20VToonify%2DD%20specialized%20for%20a%20mild%20toonification%20on%20the%2026th%20cartoon%20style%3A"
      ],
      "metadata": {
        "id": "fDsi8S3bvyQH"
      }
    }
  ]
}